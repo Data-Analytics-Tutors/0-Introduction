{
  "cells": [
    {
      "cell_type": "code",
      "source": [
        "!pip install sidetable\n",
        "import sidetable as stb"
      ],
      "metadata": {
        "id": "APK5Pk0e7-3P"
      },
      "execution_count": null,
      "outputs": []
    },
    {
      "cell_type": "code",
      "execution_count": null,
      "metadata": {
        "id": "qZgz94uQ5DMI"
      },
      "outputs": [],
      "source": [
        "#Import Libraries\n",
        "\n",
        "import pandas as pd\n",
        "import matplotlib.pyplot as plt\n",
        "import datetime\n",
        "import numpy as np\n",
        "import seaborn as sns\n",
        "import sidetable\n",
        "#from pandas_profiling import ProfileReport"
      ]
    },
    {
      "cell_type": "code",
      "execution_count": null,
      "metadata": {
        "id": "IUykLUZP5DMJ"
      },
      "outputs": [],
      "source": [
        "#Read in data (could be done from a file(excel/csv), API, link, or SQL dB)\n",
        "#df = pd.read_csv('')\n",
        "df = pd.read_csv(\"https://data.wa.gov/api/views/f6w7-q2d2/rows.csv?\")\n",
        "df.head()\n"
      ]
    },
    {
      "cell_type": "code",
      "execution_count": null,
      "metadata": {
        "id": "d5muD3HR5DMJ"
      },
      "outputs": [],
      "source": [
        "#examines the first 5 rows of data\n",
        "df.shape"
      ]
    },
    {
      "cell_type": "code",
      "source": [
        "from google.colab import drive\n",
        "drive.mount('/content/drive')"
      ],
      "metadata": {
        "id": "VwMwYwDt5nYM"
      },
      "execution_count": null,
      "outputs": []
    },
    {
      "cell_type": "code",
      "execution_count": null,
      "metadata": {
        "id": "9qB0p8rl5DMJ"
      },
      "outputs": [],
      "source": [
        "#examines the column names\n",
        "df.columns"
      ]
    },
    {
      "cell_type": "code",
      "execution_count": null,
      "metadata": {
        "id": "1we6Tv9m5DMJ"
      },
      "outputs": [],
      "source": [
        "#examines the data types in each column\n",
        "df.dtypes\n"
      ]
    },
    {
      "cell_type": "code",
      "source": [
        "#describe\n",
        "df.describe()"
      ],
      "metadata": {
        "id": "wkUFISPA_rQ5"
      },
      "execution_count": null,
      "outputs": []
    },
    {
      "cell_type": "code",
      "execution_count": null,
      "metadata": {
        "id": "Mnv7xs--5DMJ"
      },
      "outputs": [],
      "source": [
        "#let's count the values in the fruit column\n",
        "df.Make.value_counts() # \".\" notation\n",
        "#try the following, \"bracket\" notation []:\n",
        "#df['Make'].value_counts()"
      ]
    },
    {
      "cell_type": "code",
      "source": [
        "df.columns"
      ],
      "metadata": {
        "id": "ITqitwAPAbws"
      },
      "execution_count": null,
      "outputs": []
    },
    {
      "cell_type": "code",
      "source": [
        "#What % of the market does tesla hold of the market in this dataset??\n",
        "df.stb.freq(['Make'])\n",
        "\n",
        "#resource: https://pbpython.com/sidetable.html"
      ],
      "metadata": {
        "id": "Oj_1mz_JACki"
      },
      "execution_count": null,
      "outputs": []
    },
    {
      "cell_type": "code",
      "execution_count": null,
      "metadata": {
        "id": "-nZeCC405DMJ"
      },
      "outputs": [],
      "source": [
        "#examine the average range(distance a vehicle can go) across all vehicles\n",
        "#--we use the mean instead of the average function here\n",
        "df.groupby(['Make'])['Electric Range'].agg(['mean']).sort_values(by=['mean'],ascending=False)"
      ]
    },
    {
      "cell_type": "code",
      "source": [
        "#Let's look at the Base MSRP\n",
        "df.groupby(['Make'])['Base MSRP'].agg(['mean']).sort_values(by=['mean'],ascending=False)"
      ],
      "metadata": {
        "id": "m2LO8yHG-0fi"
      },
      "execution_count": null,
      "outputs": []
    },
    {
      "cell_type": "code",
      "source": [
        "#let's look back at our table\n",
        "df.head()"
      ],
      "metadata": {
        "id": "eIXsGpzA_d2H"
      },
      "execution_count": null,
      "outputs": []
    },
    {
      "cell_type": "markdown",
      "source": [
        "## Let's Plot !\n",
        "First let's look at the top 10 EV Makes"
      ],
      "metadata": {
        "id": "CWguGILeEswv"
      }
    },
    {
      "cell_type": "code",
      "source": [
        "top_makes = df['Make'].value_counts().head(10)\n",
        "print(top_makes)"
      ],
      "metadata": {
        "id": "cle2-HRPFS-3"
      },
      "execution_count": null,
      "outputs": []
    },
    {
      "cell_type": "code",
      "source": [
        "# Plot the top 10 EV makes\n",
        "plt.figure(figsize=(10,6))\n",
        "sns.barplot(x=top_makes.index, y=top_makes.values, palette='viridis')\n",
        "plt.title('Top 10 EV Makes')\n",
        "plt.ylabel('Count')\n",
        "plt.xticks(rotation=45)\n",
        "plt.show()"
      ],
      "metadata": {
        "id": "eJuCpebuCc3P"
      },
      "execution_count": null,
      "outputs": []
    },
    {
      "cell_type": "code",
      "source": [
        "# Top 10 most common EV models\n",
        "top_models = df['Model'].value_counts().head(10)\n",
        "print(top_models)"
      ],
      "metadata": {
        "id": "Pm9goQSxFD0A"
      },
      "execution_count": null,
      "outputs": []
    },
    {
      "cell_type": "code",
      "source": [
        "# Plot the top 10 EV models\n",
        "plt.figure(figsize=(10,6))\n",
        "sns.barplot(x=top_models.index, y=top_models.values, palette='viridis')\n",
        "plt.title('Top 10 EV Models')\n",
        "plt.ylabel('Count')\n",
        "plt.xticks(rotation=45)\n",
        "plt.show()"
      ],
      "metadata": {
        "id": "p61AlAfgFLTe"
      },
      "execution_count": null,
      "outputs": []
    },
    {
      "cell_type": "markdown",
      "source": [
        "Let's Visualize the Distance (Est)"
      ],
      "metadata": {
        "id": "xBUJyxq3FbYj"
      }
    },
    {
      "cell_type": "code",
      "source": [
        "# Distribution of distances\n",
        "plt.figure(figsize=(10,6))\n",
        "sns.histplot(df['Electric Range'], bins=30, kde=True, color='blue')\n",
        "plt.title('Distribution of EV Distances')\n",
        "plt.xlabel('Distance (miles)')\n",
        "plt.ylabel('Frequency')\n",
        "plt.show()"
      ],
      "metadata": {
        "id": "Cnj37sI8Fgr9"
      },
      "execution_count": null,
      "outputs": []
    },
    {
      "cell_type": "markdown",
      "source": [
        "Reading a Box Plot :[link text](https://)"
      ],
      "metadata": {
        "id": "WfO8BcvPGsez"
      }
    },
    {
      "cell_type": "code",
      "source": [
        "# Boxplot of distances by EV make\n",
        "plt.figure(figsize=(12,6))\n",
        "sns.boxplot(x='Make', y='Electric Range', data=df, palette='coolwarm')\n",
        "plt.title('Range by EV Make')\n",
        "plt.xticks(rotation=90)\n",
        "plt.show()"
      ],
      "metadata": {
        "id": "mjzDRjEwFjx9"
      },
      "execution_count": null,
      "outputs": []
    },
    {
      "cell_type": "markdown",
      "source": [
        "Box and Whisker : ![boxwhisker.png](data:image/png;base64,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)"
      ],
      "metadata": {
        "id": "HgxvXfRUHCuK"
      }
    },
    {
      "cell_type": "code",
      "source": [
        "# Boxplot of distances by EV model (top 10 models only)\n",
        "top_models_list = df['Model'].value_counts().index[:10]\n",
        "df_top_models = df[df['Model'].isin(top_models_list)]\n",
        "\n",
        "plt.figure(figsize=(12,6))\n",
        "sns.boxplot(x='Model', y='Electric Range', data=df_top_models, palette='coolwarm')\n",
        "plt.title('Range by EV Model (Top 10 Models)')\n",
        "plt.xticks(rotation=90)\n",
        "plt.show()"
      ],
      "metadata": {
        "id": "PSqj5SgFF3Uo"
      },
      "execution_count": null,
      "outputs": []
    },
    {
      "cell_type": "code",
      "source": [
        "# Select only numeric columns\n",
        "numeric_df = df.select_dtypes(include='number')\n",
        "\n",
        "# Compute the correlation matrix\n",
        "corr_matrix = numeric_df.corr()\n",
        "\n",
        "# Display the correlation matrix\n",
        "print(corr_matrix)"
      ],
      "metadata": {
        "id": "O1xce7RCGLLt"
      },
      "execution_count": null,
      "outputs": []
    },
    {
      "cell_type": "markdown",
      "source": [
        "Correlation Analysis"
      ],
      "metadata": {
        "id": "oSkTzax4HQRt"
      }
    },
    {
      "cell_type": "code",
      "source": [
        "# Correlation matrix\n",
        "plt.figure(figsize=(10,6))\n",
        "sns.heatmap(corr_matrix, annot=True, cmap='coolwarm')\n",
        "plt.title('Correlation Matrix of EV Data')\n",
        "plt.show()"
      ],
      "metadata": {
        "id": "0VQNV4xNHS4x"
      },
      "execution_count": null,
      "outputs": []
    }
  ],
  "metadata": {
    "kernelspec": {
      "display_name": "base",
      "language": "python",
      "name": "python3"
    },
    "language_info": {
      "codemirror_mode": {
        "name": "ipython",
        "version": 3
      },
      "file_extension": ".py",
      "mimetype": "text/x-python",
      "name": "python",
      "nbconvert_exporter": "python",
      "pygments_lexer": "ipython3",
      "version": "3.8.5"
    },
    "colab": {
      "provenance": []
    }
  },
  "nbformat": 4,
  "nbformat_minor": 0
}