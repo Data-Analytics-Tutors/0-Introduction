{
  "cells": [
    {
      "cell_type": "markdown",
      "metadata": {
        "id": "rACsT1Vj0e_m"
      },
      "source": [
        "### Data Analysis Process"
      ]
    },
    {
      "cell_type": "markdown",
      "metadata": {
        "id": "0bpzQ0t-0e_n"
      },
      "source": [
        "![Data Analysis Process](https://github.com/Data-Analytics-Tutors/0-Introduction/blob/master/images/Intro%20to%20Data%20Analytics%20Case%20Study.png?raw=1)\n"
      ]
    },
    {
      "cell_type": "markdown",
      "metadata": {
        "id": "pZvN2sYB0e_n"
      },
      "source": [
        "### Data Understanding"
      ]
    },
    {
      "cell_type": "markdown",
      "metadata": {
        "id": "RhqXCp0V0e_n"
      },
      "source": [
        "Data sourced from Dallas Open Data Portal, [Vendor Payments for Fiscal Year 2019-Present](https://www.dallasopendata.com/Economy/Vendor-Payments-for-Fiscal-Year-2019-Present/x5ih-idh7)\n",
        "Latest 500k query.\n",
        "Resources:\n",
        "- Questions sourced from [Dallas Open Records](https://dallastx.govqa.us/WEBAPP/_rs/(S(yvwdnfffcg5vrmly43gmvfag))/OpenRecordsSummary.aspx?sSessionID=)\n",
        "\n",
        "The csv  has 22 columns and 850,000+ rows.\n",
        "Features include:\n",
        "(List of columns)\n"
      ]
    },
    {
      "cell_type": "markdown",
      "metadata": {
        "id": "n5IwliSK0e_n"
      },
      "source": [
        "## FIELD NAME DESCRIPTION\n",
        "-   RUN DATE DATE POSTED\n",
        "-   FY FISCAL YEAR\n",
        "-   FM FISCAL MONTH ‐ OCTOBER IS MONTH 1/SEPTEMBER IS MONTH 12/PERIOD 13 IS AN ADJUSTMENT PERIOD AT YEAR END\n",
        "-   DOC‐ID SYSTEM DOCUMENT ID ‐ READS AS FOLLOWS ‐ DOCUMENT TYPE‐DEPARTMENT‐DOCUMENT NUMBER\n",
        "-   CHKSUBTOT PAYMENT SUBTOTAL BY LINE ITEM\n",
        "-   VCODE VENDOR CODE\n",
        "-   VENDOR VENDOR NAME\n",
        "-   ZIP5 VENDOR ZIP CODE\n",
        "-   FTYP FUND TYPE ABBREVIATION ‐ SEE THE 'READ MORE' SECTION OF THIS WEBSITE FOR DESCRIPTIONS\n",
        "-   FUND TYPE FUND TYPE ‐ SEE THE 'READ MORE' SECTION OF THIS WEBSITE FOR DESCRIPTIONS\n",
        "-   DPT DEPARTMENT ABBREVIATION\n",
        "-   DEPARTMENT DEPARTMENT\n",
        "-   ACTV INTERNAL ACTIVITY CODE\n",
        "-   ACTIVITY ACTIVITY\n",
        "-   OGRP OBJECT GROUP ABBREVIATION\n",
        "-   OBJECTGROUP OBJECT GROUP (SPECIFIES THE EXPENDITURE CLASSIFICATION)\n",
        "-   OBJ NUMERIC CODE ASSOCIATED WITH THE OBJECT\n",
        "-   OBJECT DESCRIPTION OF OBJ ‐ OBJECTS ARE PLACED IN TO OBJECT GROUPS FOR CLASSIFICATION, BASED ON THEIR OBJ CODE\n",
        "-   COMM COMMODITY CODE\n",
        "-   COMMODITY DSCR DESCRIPTION OF COMM (COMMODITY CODE)\n",
        "-   INVOICEDATE NOT APPLICABLE\n",
        "-   INVOICENUMBER NOT APPLICABLE"
      ]
    },
    {
      "cell_type": "code",
      "source": [
        "!pip install sidetable\n",
        "import sidetable as stb"
      ],
      "metadata": {
        "id": "0xYV05UP3fQ5"
      },
      "execution_count": null,
      "outputs": []
    },
    {
      "cell_type": "code",
      "execution_count": null,
      "metadata": {
        "id": "157Uo9490e_n"
      },
      "outputs": [],
      "source": [
        "#Import Libraries\n",
        "\n",
        "import pandas as pd\n",
        "import matplotlib.pyplot as plt\n",
        "import datetime\n",
        "import numpy as np\n",
        "import seaborn as sns\n",
        "#from pandas_profiling import ProfileReport"
      ]
    },
    {
      "cell_type": "code",
      "execution_count": null,
      "metadata": {
        "id": "oM9L5aif0e_o"
      },
      "outputs": [],
      "source": [
        "#Read in data (could be done from a file(excel/csv), API, link, or SQL dB)\n",
        "df = pd.read_csv(\"https://www.dallasopendata.com/resource/x5ih-idh7.csv?$limit=50000\")\n",
        "df.shape\n",
        "#examine the shape of the data"
      ]
    },
    {
      "cell_type": "code",
      "execution_count": null,
      "metadata": {
        "id": "1rtsuM9G0e_o"
      },
      "outputs": [],
      "source": [
        "#formatting columns, specifically the chksubtot column\n",
        "format_dict =  {'chksubtot':'${:,.2f}'}"
      ]
    },
    {
      "cell_type": "code",
      "execution_count": null,
      "metadata": {
        "id": "QmXZJD090e_o"
      },
      "outputs": [],
      "source": [
        "#returns the first 5 rows of data\n",
        "df.head()\n",
        "\n",
        "#returns the last 5 rows of data\n",
        "#df.tail()"
      ]
    },
    {
      "cell_type": "markdown",
      "metadata": {
        "id": "XvuhosGq0e_o"
      },
      "source": []
    },
    {
      "cell_type": "markdown",
      "metadata": {
        "id": "BRxga1LO0e_o"
      },
      "source": [
        "### Exploratory Data Analysis"
      ]
    },
    {
      "cell_type": "code",
      "execution_count": null,
      "metadata": {
        "id": "392v6U4j0e_o"
      },
      "outputs": [],
      "source": [
        "df.dtypes\n",
        "#examine the data data types"
      ]
    },
    {
      "cell_type": "code",
      "execution_count": null,
      "metadata": {
        "id": "MQZIOFe30e_o"
      },
      "outputs": [],
      "source": [
        "df.info()\n",
        "#examine the info for the data"
      ]
    },
    {
      "cell_type": "code",
      "execution_count": null,
      "metadata": {
        "id": "pJvqDAHd0e_o"
      },
      "outputs": [],
      "source": [
        "df.describe()\n",
        "#describe the data"
      ]
    },
    {
      "cell_type": "code",
      "execution_count": null,
      "metadata": {
        "id": "OVUqeUBP0e_o"
      },
      "outputs": [],
      "source": [
        "df.department.value_counts()\n",
        "# here we are looking at the number of times a dept is represented"
      ]
    },
    {
      "cell_type": "code",
      "execution_count": null,
      "metadata": {
        "id": "foE5Lldz0e_o"
      },
      "outputs": [],
      "source": [
        "#number  of null values\n",
        "df.isnull().sum()\n",
        "\n",
        "#percentage of null values\n",
        "#df.isnull().mean()\n",
        "\n"
      ]
    },
    {
      "cell_type": "code",
      "execution_count": null,
      "metadata": {
        "id": "oaYy0HWF0e_o"
      },
      "outputs": [],
      "source": [
        "df['department'] = df.department.astype('string')\n",
        "df.department.dtypes"
      ]
    },
    {
      "cell_type": "markdown",
      "metadata": {
        "id": "pljR4Jm30e_o"
      },
      "source": [
        "#### Which department has the most vendor payouts  and what is its average payout amount?"
      ]
    },
    {
      "cell_type": "code",
      "execution_count": null,
      "metadata": {
        "id": "S2r62qfs0e_o"
      },
      "outputs": [],
      "source": [
        "format_dict = {'chksubtot':'${:,.0f}'}\n"
      ]
    },
    {
      "cell_type": "markdown",
      "source": [],
      "metadata": {
        "id": "YgtNHG1A3KWZ"
      }
    },
    {
      "cell_type": "code",
      "source": [
        "#fy 2024\n",
        "fy_24 = df[df.fy ==2024]\n",
        "fy_24.style.format(format_dict)\n",
        "fy_24.stb.freq(['department'], value='chksubtot', style=True, cum_cols=False)"
      ],
      "metadata": {
        "id": "kRzgsl7H3LC6"
      },
      "execution_count": null,
      "outputs": []
    },
    {
      "cell_type": "code",
      "source": [],
      "metadata": {
        "id": "9aHvob2D3IqG"
      },
      "execution_count": null,
      "outputs": []
    },
    {
      "cell_type": "markdown",
      "metadata": {
        "id": "J-GOeM5l0e_o"
      },
      "source": [
        "#### Question 2 : AVI Vendors\n",
        "##### Which vendor recieved the most overall pay out from the aviation department?\n",
        "\n"
      ]
    },
    {
      "cell_type": "code",
      "execution_count": null,
      "metadata": {
        "id": "HoumGWhV0e_o"
      },
      "outputs": [],
      "source": [
        "avi_dept = df[df.department =='Aviation']\n",
        "avi_dept.style.format(format_dict)\n",
        "avi_dept.head()"
      ]
    },
    {
      "cell_type": "code",
      "execution_count": null,
      "metadata": {
        "id": "8X51QX_y0e_p"
      },
      "outputs": [],
      "source": [
        "avi_dept.shape"
      ]
    },
    {
      "cell_type": "code",
      "execution_count": null,
      "metadata": {
        "id": "bqkiBQUI0e_p"
      },
      "outputs": [],
      "source": [
        "#first, lets isolate the Aviation dept, vendors from the rest the data\n",
        "aviation_vendors_sum = avi_dept.groupby(['vendor'])['chksubtot'].agg(['sum']).sort_values(by=['sum'],ascending=False)\n",
        "aviation_vendors_sum"
      ]
    },
    {
      "cell_type": "code",
      "execution_count": null,
      "metadata": {
        "id": "wkQy8qLT0e_p"
      },
      "outputs": [],
      "source": [
        "#contains_clear, searching for vendor payout to \"Flatiron Contractors\"\n",
        "avi_dept.loc[avi_dept['vendor'].str.contains('Flatiron', case=False)]"
      ]
    },
    {
      "cell_type": "markdown",
      "metadata": {
        "id": "U5T8Mya60e_p"
      },
      "source": [
        "## Practice ##\n",
        "\n",
        "Using the previous excercise, perform the following:\n",
        "- Create a dataframe for the purchases by the Fire Department\n",
        "- Find out who the top vendors are\n",
        "- How much was the most recent payout was for"
      ]
    },
    {
      "cell_type": "code",
      "execution_count": null,
      "metadata": {
        "id": "Gv0aP8ev0e_p"
      },
      "outputs": [],
      "source": [
        "#Create a dataframe for the purchases by the Fire Department\n",
        "fire_dept =  df[df.department =='Dallas Fire Department']\n",
        "fire_dept.style.format(format_dict)\n",
        "fire_dept.head()"
      ]
    },
    {
      "cell_type": "code",
      "execution_count": null,
      "metadata": {
        "id": "EGTlxWGy0e_p"
      },
      "outputs": [],
      "source": [
        "fire_dept.shape"
      ]
    },
    {
      "cell_type": "code",
      "execution_count": null,
      "metadata": {
        "id": "m2iJTMDG0e_p"
      },
      "outputs": [],
      "source": [
        "#Find out who the top vendors are\n",
        "\n",
        "fire_vendors =fire_dept.groupby(['vendor'])['chksubtot'].agg(['sum']).sort_values(by=['sum'],ascending=False)\n",
        "fire_vendors\n"
      ]
    },
    {
      "cell_type": "code",
      "execution_count": null,
      "metadata": {
        "id": "ZY8z2_LG0e_p"
      },
      "outputs": [],
      "source": [
        "#How much was the most recent payout was for\n",
        "fire_dept.loc[fire_dept['vendor'].str.contains('Siddons', case=False)]"
      ]
    },
    {
      "cell_type": "code",
      "execution_count": null,
      "metadata": {
        "id": "Fj6BPGn60e_p"
      },
      "outputs": [],
      "source": [
        "#Find out who the top vendors are\n",
        "\n",
        "fire_vendors =fire_dept.groupby(['vendor'])['chksubtot'].agg(['sum']).sort_values(by=['sum'],ascending=False)\n",
        "fire_vendors\n",
        "\n",
        "#Create a dataframe for the purchases by the Fire Department\n",
        "fire_dept =  df[df.department =='Dallas Fire Department']\n",
        "fire_dept.style.format(format_dict)\n",
        "fire_dept.head()\n",
        "\n",
        "#How much was the most recent payout was for\n",
        "fire_dept.loc[fire_dept['vendor'].str.contains('Siddons', case=False)]"
      ]
    },
    {
      "cell_type": "markdown",
      "metadata": {
        "id": "b7gmRFK80e_p"
      },
      "source": [
        "####  You recieve a request from a resident who inquires the following via email: ####\n",
        "    \"I am requesting an opportunity to inspect or obtain copies of public records for the contract - Temporary Staffing. The details I am requesting are given below: Proposals of the awarded vendors. Spending on this contract till now.\"\n",
        "    - Citizen Candy"
      ]
    },
    {
      "cell_type": "code",
      "execution_count": null,
      "metadata": {
        "id": "nsw7FO4n0e_p"
      },
      "outputs": [],
      "source": [
        "temp_staff_contract = df[df.object =='Outside Temps/Staffing']\n",
        "temp_staff_contract.head()"
      ]
    },
    {
      "cell_type": "code",
      "execution_count": null,
      "metadata": {
        "id": "QVncqkEk0e_p"
      },
      "outputs": [],
      "source": [
        "temp_staff_contract.shape"
      ]
    },
    {
      "cell_type": "code",
      "execution_count": null,
      "metadata": {
        "id": "bxWIf3rg0e_p"
      },
      "outputs": [],
      "source": [
        "#temp contract by year and  vendor\n",
        "temp_staff_contract.groupby(['vendor','fy'])['chksubtot'].agg(['sum']).sort_values(by=['vendor','sum'],ascending=False)"
      ]
    },
    {
      "cell_type": "markdown",
      "metadata": {
        "id": "eYNudI8P0e_p"
      },
      "source": [
        "### Modeling (optional)"
      ]
    },
    {
      "cell_type": "code",
      "execution_count": null,
      "metadata": {
        "scrolled": true,
        "id": "AckEoYIj0e_p"
      },
      "outputs": [],
      "source": [
        "df.columns"
      ]
    },
    {
      "cell_type": "code",
      "execution_count": null,
      "metadata": {
        "id": "Y7LZDkxy0e_p"
      },
      "outputs": [],
      "source": [
        "#vizualizing payout by fm/$\n",
        "df.groupby('fm')['chksubtot'].mean().plot(kind='bar',color= 'C1')\n",
        "plt.title(\"Mean Vendor Payout($) by FY\", color= 'C1')\n",
        "plt.xlabel(\" FY\",color= 'C1')\n",
        "plt.ylabel(\"Mean Check paid ($)\", color= 'C1')\n",
        "plt.show()"
      ]
    },
    {
      "cell_type": "markdown",
      "metadata": {
        "id": "YQ4z2sV90e_t"
      },
      "source": [
        "### Evaluation( Data Presentation/Validation--how to present data to stakeholder)"
      ]
    },
    {
      "cell_type": "code",
      "execution_count": null,
      "metadata": {
        "id": "QKUp8cAe0e_t"
      },
      "outputs": [],
      "source": [
        "# export for excel data profile\n",
        "file_name = \"fire_dept_Data_Profile.xlsx\"\n",
        "with pd.ExcelWriter(file_name) as writer:\n",
        "    # writing to the 'Employee' sheet\n",
        "    fire_dept.to_excel(writer, sheet_name='Fire_Profile', index=False)\n",
        "\n"
      ]
    },
    {
      "cell_type": "code",
      "execution_count": null,
      "metadata": {
        "id": "q-H1n1Gf0e_t"
      },
      "outputs": [],
      "source": []
    },
    {
      "cell_type": "markdown",
      "metadata": {
        "id": "wWwoezFM0e_t"
      },
      "source": [
        "### Deployment( Visualization & Presentation)"
      ]
    },
    {
      "cell_type": "markdown",
      "metadata": {
        "id": "cZCvstFs0e_t"
      },
      "source": []
    }
  ],
  "metadata": {
    "kernelspec": {
      "display_name": "Python 3",
      "language": "python",
      "name": "python3"
    },
    "language_info": {
      "codemirror_mode": {
        "name": "ipython",
        "version": 3
      },
      "file_extension": ".py",
      "mimetype": "text/x-python",
      "name": "python",
      "nbconvert_exporter": "python",
      "pygments_lexer": "ipython3",
      "version": "3.12.1"
    },
    "vscode": {
      "interpreter": {
        "hash": "81054b041f8c54b4eeafb5e8b68263f2769ea10ad04b419a59cc50f017309eaa"
      }
    },
    "colab": {
      "provenance": []
    }
  },
  "nbformat": 4,
  "nbformat_minor": 0
}